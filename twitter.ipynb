{
 "cells": [
  {
   "cell_type": "code",
   "execution_count": null,
   "metadata": {},
   "outputs": [],
   "source": [
    "# indeed API? "
   ]
  },
  {
   "cell_type": "code",
   "execution_count": 1,
   "metadata": {},
   "outputs": [],
   "source": [
    "# access tokens for the Gatsbie Twitter account\n",
    "consumer_key = \"WNMue38KsSTYOJ5Wqhshrd7Qh\"\n",
    "consumer_secret = \"5UK9E16aDm8Aq2vtg4dIn4iGoVX46cMZD8jIOxqyRl7uDiyZiz\"\n",
    "\n",
    "access_token = \"1062176824405323776-lGvbf7ow6xfkaAfXtxuSEDW6bcZ41y\"\n",
    "access_token_secret = \"dQdcLzl7UrVPQpAhzQnl8KMbamWrf78aRJ1JyxceiT09Y\""
   ]
  },
  {
   "cell_type": "code",
   "execution_count": 4,
   "metadata": {},
   "outputs": [],
   "source": [
    "# Tweepy is a python wrapper library for Twitter's API\n",
    "# Here we import the package and use it to authenticate ourselves and set our access tokens\n",
    "import tweepy\n",
    "\n",
    "auth = tweepy.OAuthHandler(consumer_key, consumer_secret)\n",
    "auth.set_access_token(access_token, access_token_secret)\n",
    "\n",
    "api = tweepy.API(auth)"
   ]
  },
  {
   "cell_type": "code",
   "execution_count": 14,
   "metadata": {},
   "outputs": [],
   "source": [
    "# here I'm grabbing all the tweets in my timeline\n",
    "public_tweets = api.home_timeline()\n",
    "\n",
    "# [Exercise] loop over tweets a print off text"
   ]
  },
  {
   "cell_type": "code",
   "execution_count": null,
   "metadata": {},
   "outputs": [],
   "source": [
    "# https://www.geeksforgeeks.org/extraction-of-tweets-using-tweepy/\n",
    "# create a function that uses Tweepy to find the tweets of another user"
   ]
  },
  {
   "cell_type": "code",
   "execution_count": 15,
   "metadata": {},
   "outputs": [
    {
     "name": "stdout",
     "output_type": "stream",
     "text": [
      "Retweeted the tweet\n",
      "Retweeted the tweet\n",
      "Retweeted the tweet\n",
      "Retweeted the tweet\n",
      "Retweeted the tweet\n",
      "[{'code': 139, 'message': 'You have already favorited this status.'}]\n",
      "Retweeted the tweet\n",
      "[{'code': 139, 'message': 'You have already favorited this status.'}]\n",
      "Retweeted the tweet\n",
      "Retweeted the tweet\n"
     ]
    }
   ],
   "source": [
    "# use tweepy search API to find and favourite tweets\n",
    "searchTerm = \"Startups\"\n",
    "numberOfTweets = 10"
   ]
  },
  {
   "cell_type": "code",
   "execution_count": 17,
   "metadata": {},
   "outputs": [],
   "source": [
    "# print off all the tweets I have just favourited"
   ]
  },
  {
   "cell_type": "code",
   "execution_count": 18,
   "metadata": {},
   "outputs": [],
   "source": [
    "# Post a status right now with your start up idea "
   ]
  },
  {
   "cell_type": "code",
   "execution_count": null,
   "metadata": {},
   "outputs": [],
   "source": [
    "# Read this and create your own Twitter bot: https://chatbotslife.com/the-philosophy-of-a-twitter-bot-832fe5918fd9"
   ]
  }
 ],
 "metadata": {
  "kernelspec": {
   "display_name": "Python 3",
   "language": "python",
   "name": "python3"
  },
  "language_info": {
   "codemirror_mode": {
    "name": "ipython",
    "version": 3
   },
   "file_extension": ".py",
   "mimetype": "text/x-python",
   "name": "python",
   "nbconvert_exporter": "python",
   "pygments_lexer": "ipython3",
   "version": "3.6.5"
  }
 },
 "nbformat": 4,
 "nbformat_minor": 2
}
